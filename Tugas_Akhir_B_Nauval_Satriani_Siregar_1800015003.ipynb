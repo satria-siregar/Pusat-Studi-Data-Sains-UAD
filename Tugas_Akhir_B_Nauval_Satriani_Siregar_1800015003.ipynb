{
  "nbformat": 4,
  "nbformat_minor": 0,
  "metadata": {
    "colab": {
      "name": "Tugas_Akhir_B_Nauval_Satriani_Siregar_1800015003.ipynb",
      "provenance": [],
      "collapsed_sections": [],
      "authorship_tag": "ABX9TyOvsbWKzdbKijiSjHnj5kXb",
      "include_colab_link": true
    },
    "kernelspec": {
      "name": "python3",
      "display_name": "Python 3"
    }
  },
  "cells": [
    {
      "cell_type": "markdown",
      "metadata": {
        "id": "view-in-github",
        "colab_type": "text"
      },
      "source": [
        "<a href=\"https://colab.research.google.com/github/satria-siregar/Pusat-Studi-Data-Sains-UAD/blob/main/Tugas_Akhir_B_Nauval_Satriani_Siregar_1800015003.ipynb\" target=\"_parent\"><img src=\"https://colab.research.google.com/assets/colab-badge.svg\" alt=\"Open In Colab\"/></a>"
      ]
    },
    {
      "cell_type": "markdown",
      "metadata": {
        "id": "7w4_DfYlnjOA"
      },
      "source": [
        "# **VOLUME DUA LIMAS KOMBINASI DENGAN ALAS PERSEGI**"
      ]
    },
    {
      "cell_type": "markdown",
      "metadata": {
        "id": "cCJv3cG-ppte"
      },
      "source": [
        "Pada pembahasan kali ini kita memiliki sebuah bangun ruang dengan bentuk Dua Limas Kombinasi, dimana kedua limas saling berhimpit pada bagian alas dan memiliki tinggi yang berbeda"
      ]
    },
    {
      "cell_type": "code",
      "metadata": {
        "id": "Os3LyPRNrTrc"
      },
      "source": [
        "#Function 1 (Limas A)\r\n",
        "\r\n",
        "def Volume_A(a,t1):\r\n",
        "  VLA = (1/3)*(a*t1)\r\n",
        "  return VLA\r\n",
        "\r\n",
        "a = float(input('Masukkan panjang sisi a = '))\r\n",
        "t1 = float(input('Masukkan tinggi Limas A = '))\r\n",
        "hasilA = Volume_A(a,t1)\r\n",
        "print(\"Volume Limas A\",hasilA)\r\n",
        "print(\"\\n\")\r\n",
        "#Function 2 (Limas B)\r\n",
        "\r\n",
        "def Volume_B(a,t2):\r\n",
        "  VLB = (1/3)*(a*t2)\r\n",
        "  return VLB\r\n",
        "\r\n",
        "t2 = float(input('Masukkan tinggi Limas B = '))\r\n",
        "hasilB = Volume_B(a,t2)\r\n",
        "print(\"Volume Limas B\",hasilB)\r\n",
        "print(\"\\n\")\r\n",
        "#Volume Total\r\n",
        "\r\n",
        "def Total(Volume_A,Volume_B):\r\n",
        "  total = Volume_A(a,t1) + Volume_B(a,t2)\r\n",
        "  print('Maka Volume Totalnya adalah ', total)\r\n",
        "\r\n",
        "Total(Volume_A,Volume_B)"
      ],
      "execution_count": null,
      "outputs": []
    }
  ]
}