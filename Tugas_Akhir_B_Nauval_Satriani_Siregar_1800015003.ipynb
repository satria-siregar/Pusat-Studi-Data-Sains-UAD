{
  "nbformat": 4,
  "nbformat_minor": 0,
  "metadata": {
    "colab": {
      "name": "Tugas_Akhir_B_Nauval_Satriani_Siregar_1800015003.ipynb",
      "provenance": [],
      "collapsed_sections": [],
      "authorship_tag": "ABX9TyMUzks5tJ1tqlmcJWNQOyJy",
      "include_colab_link": true
    },
    "kernelspec": {
      "name": "python3",
      "display_name": "Python 3"
    }
  },
  "cells": [
    {
      "cell_type": "markdown",
      "metadata": {
        "id": "view-in-github",
        "colab_type": "text"
      },
      "source": [
        "<a href=\"https://colab.research.google.com/github/satria-siregar/Pusat-Studi-Data-Sains-UAD/blob/main/Tugas_Akhir_B_Nauval_Satriani_Siregar_1800015003.ipynb\" target=\"_parent\"><img src=\"https://colab.research.google.com/assets/colab-badge.svg\" alt=\"Open In Colab\"/></a>"
      ]
    },
    {
      "cell_type": "markdown",
      "metadata": {
        "id": "7w4_DfYlnjOA"
      },
      "source": [
        "# **VOLUME DUA LIMAS KOMBINASI DENGAN ALAS PERSEGI**"
      ]
    },
    {
      "cell_type": "markdown",
      "metadata": {
        "id": "cCJv3cG-ppte"
      },
      "source": [
        "Pada pembahasan kali ini kita memiliki sebuah bangun ruang dengan bentuk Dua Limas Kombinasi, dimana kedua limas saling berhimpit pada bagian alas namun memiliki tinggi yang berbeda"
      ]
    },
    {
      "cell_type": "code",
      "metadata": {
        "id": "Os3LyPRNrTrc",
        "colab": {
          "base_uri": "https://localhost:8080/"
        },
        "outputId": "313df94b-f59a-4e51-e9f5-d15d1f8c2784"
      },
      "source": [
        "#Function 1 (Limas A)\r\n",
        "def Volume_A(a,t1):\r\n",
        "  VLA = (1/3)*((a**2)*t1)\r\n",
        "  return VLA\r\n",
        "\r\n",
        "a = float(input('Masukkan panjang sisi a = '))\r\n",
        "t1 = float(input('Masukkan tinggi Limas A = '))\r\n",
        "hasilA = Volume_A(a,t1)\r\n",
        "print(\"Volume Limas A\",hasilA)\r\n",
        "print(\"\\n\")\r\n",
        "\r\n",
        "#Function 2 (Limas B)\r\n",
        "def Volume_B(a,t2):\r\n",
        "  VLB = (1/3)*((a**2)*t2)\r\n",
        "  return VLB\r\n",
        "\r\n",
        "t2 = float(input('Masukkan tinggi Limas B = '))\r\n",
        "hasilB = Volume_B(a,t2)\r\n",
        "print(\"Volume Limas B\",hasilB)\r\n",
        "print(\"\\n\")\r\n",
        "\r\n",
        "#Volume Total\r\n",
        "def Total(Volume_A,Volume_B):\r\n",
        "  total = Volume_A(a,t1) + Volume_B(a,t2)\r\n",
        "  print('Maka Volume Totalnya adalah ', total)\r\n",
        "\r\n",
        "Total(Volume_A,Volume_B)"
      ],
      "execution_count": 2,
      "outputs": [
        {
          "output_type": "stream",
          "text": [
            "Masukkan panjang sisi a = 2\n",
            "Masukkan tinggi Limas A = 9\n",
            "Volume Limas A 12.0\n",
            "\n",
            "\n",
            "Masukkan tinggi Limas B = 6\n",
            "Volume Limas B 8.0\n",
            "\n",
            "\n",
            "Maka Volume Totalnya adalah  20.0\n"
          ],
          "name": "stdout"
        }
      ]
    }
  ]
}